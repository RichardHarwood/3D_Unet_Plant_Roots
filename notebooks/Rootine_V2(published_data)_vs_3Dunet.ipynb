{
 "cells": [
  {
   "cell_type": "code",
   "execution_count": 1,
   "id": "bbd6b769",
   "metadata": {},
   "outputs": [
    {
     "name": "stderr",
     "output_type": "stream",
     "text": [
      "C:\\Users\\richa\\AppData\\Local\\Temp\\ipykernel_19944\\633489481.py:19: DeprecationWarning: Please import `binary_erosion` from the `scipy.ndimage` namespace; the `scipy.ndimage.morphology` namespace is deprecated and will be removed in SciPy 2.0.0.\n",
      "  from scipy.ndimage.morphology import binary_erosion, distance_transform_edt, binary_fill_holes, binary_dilation\n",
      "C:\\Users\\richa\\AppData\\Local\\Temp\\ipykernel_19944\\633489481.py:19: DeprecationWarning: Please import `distance_transform_edt` from the `scipy.ndimage` namespace; the `scipy.ndimage.morphology` namespace is deprecated and will be removed in SciPy 2.0.0.\n",
      "  from scipy.ndimage.morphology import binary_erosion, distance_transform_edt, binary_fill_holes, binary_dilation\n",
      "C:\\Users\\richa\\AppData\\Local\\Temp\\ipykernel_19944\\633489481.py:19: DeprecationWarning: Please import `binary_fill_holes` from the `scipy.ndimage` namespace; the `scipy.ndimage.morphology` namespace is deprecated and will be removed in SciPy 2.0.0.\n",
      "  from scipy.ndimage.morphology import binary_erosion, distance_transform_edt, binary_fill_holes, binary_dilation\n",
      "C:\\Users\\richa\\AppData\\Local\\Temp\\ipykernel_19944\\633489481.py:19: DeprecationWarning: Please import `binary_dilation` from the `scipy.ndimage` namespace; the `scipy.ndimage.morphology` namespace is deprecated and will be removed in SciPy 2.0.0.\n",
      "  from scipy.ndimage.morphology import binary_erosion, distance_transform_edt, binary_fill_holes, binary_dilation\n"
     ]
    }
   ],
   "source": [
    "#https://github.com/ZFTurbo/volumentations\n",
    "import glob\n",
    "import os\n",
    "import skimage\n",
    "import numpy as np\n",
    "import matplotlib.pyplot as plt\n",
    "import gc\n",
    "import pandas as pd\n",
    "#import albumentations as A\n",
    "import random\n",
    "from scipy.ndimage import zoom\n",
    "from skimage.exposure import match_histograms\n",
    "from skimage import filters, io, img_as_ubyte, img_as_float32\n",
    "from skimage import data\n",
    "from skimage import exposure\n",
    "import h5py\n",
    "from volumentations import *\n",
    "from skimage.filters import threshold_otsu\n",
    "from scipy.ndimage.morphology import binary_erosion, distance_transform_edt, binary_fill_holes, binary_dilation\n",
    "from skimage.measure import label\n",
    "from skimage.morphology import remove_small_objects\n",
    "from scipy import ndimage as ndi\n",
    "from vedo import *\n",
    "import pyvista as pv\n",
    "from skimage.morphology import skeletonize\n",
    "from sklearn.metrics import precision_score, recall_score, f1_score\n",
    "\n",
    "#results from rootine\n",
    "#rootlength[pix]\n",
    "#123723.442\n",
    "#186607.196"
   ]
  },
  {
   "cell_type": "markdown",
   "id": "15c1f05d",
   "metadata": {},
   "source": [
    "### Overview\n",
    "From rootine v2:\n",
    "<br>\n",
    "The quantification of root length from X-ray CT data has to be preceded by a step of skeletonization which conducts a medial axis transform of the segmented root image. This results in an image where all roots are reduced to a 1 pixel wide object which makes the calculations of root length more reliable and faster. \n",
    "<br>\n",
    "<br>\n",
    "Essentially we make all the roots a one pixel line and then count the pixels .. this is how you get root length from 3D volume.\n",
    "<br>\n",
    "<br>\n",
    "So here we will compare the amount of root length the 3D unet can recover (root1s and rootines approach to quanitify accuracy) but also the F1 accuracy and recall of 3D u net and rootine v2 (essentially how the match 1:1 in a 3D space)\n"
   ]
  },
  {
   "cell_type": "code",
   "execution_count": 2,
   "id": "7c0b9c92",
   "metadata": {},
   "outputs": [],
   "source": [
    "rootine=skimage.io.imread(\"F:\\\\rootine_data\\\\07_full_root_system.tif\")\n",
    "rootine=rootine[1:]\n",
    "rootine[rootine !=0 ] = 1\n",
    "pot_mask=skimage.io.imread(\"F:\\\\rootine_data\\\\rootine_transfer_their_seg\\\\comparing\\\\rootine_full_images_length_match\\\\pot_crop_test.tif\")\n",
    "unet_im=skimage.io.imread(\"F:\\\\rootine_data\\\\rootine_transfer_their_seg\\\\comparing\\\\pred_tif\\\\rootine_test_predictions.h5.tif\")"
   ]
  },
  {
   "cell_type": "code",
   "execution_count": 3,
   "id": "bd6299dc",
   "metadata": {
    "scrolled": true
   },
   "outputs": [
    {
     "data": {
      "text/plain": [
       "Text(0.5, 1.0, 'unet')"
      ]
     },
     "execution_count": 3,
     "metadata": {},
     "output_type": "execute_result"
    },
    {
     "data": {
      "image/png": "[encoded data removed]",
      "text/plain": [
       "<Figure size 1000x400 with 3 Axes>"
      ]
     },
     "metadata": {},
     "output_type": "display_data"
    }
   ],
   "source": [
    "fig, ax = plt.subplots(1, 3, figsize=[10, 4])\n",
    "ax[0].imshow(rootine[500])\n",
    "plt.title (\"rootine\")\n",
    "ax[1].imshow(pot_mask[500])\n",
    "plt.title (\"pot_mask\")\n",
    "ax[2].imshow(unet_im[500], cmap=\"inferno\");\n",
    "plt.title (\"unet\")"
   ]
  },
  {
   "cell_type": "code",
   "execution_count": 4,
   "id": "ca45aa9f",
   "metadata": {},
   "outputs": [
    {
     "data": {
      "text/plain": [
       "65"
      ]
     },
     "execution_count": 4,
     "metadata": {},
     "output_type": "execute_result"
    }
   ],
   "source": [
    "#Wrangle the unet output\n",
    "thresh = threshold_otsu(unet_im[500:800])-75\n",
    "unet_binary = (unet_im > thresh).astype('ubyte')\n",
    "del unet_im\n",
    "gc.collect()"
   ]
  },
  {
   "cell_type": "code",
   "execution_count": 5,
   "id": "ec6791a8",
   "metadata": {},
   "outputs": [
    {
     "data": {
      "text/plain": [
       "38"
      ]
     },
     "execution_count": 5,
     "metadata": {},
     "output_type": "execute_result"
    }
   ],
   "source": [
    "thresh"
   ]
  },
  {
   "cell_type": "code",
   "execution_count": 6,
   "id": "69dc4d54",
   "metadata": {},
   "outputs": [],
   "source": [
    "#weights[weights !=0 ] = 1"
   ]
  },
  {
   "cell_type": "code",
   "execution_count": 7,
   "id": "5f795363",
   "metadata": {},
   "outputs": [],
   "source": [
    "diamond = ndi.generate_binary_structure(rank=3, connectivity=1)\n",
    "iternation_n=2\n",
    "pot_mask_erosion = ndi.binary_erosion(pot_mask, diamond, iterations=iternation_n)"
   ]
  },
  {
   "cell_type": "code",
   "execution_count": 8,
   "id": "1c4e2432",
   "metadata": {},
   "outputs": [
    {
     "data": {
      "text/plain": [
       "0"
      ]
     },
     "execution_count": 8,
     "metadata": {},
     "output_type": "execute_result"
    }
   ],
   "source": [
    "unet_binary_pot  = unet_binary * pot_mask_erosion\n",
    "skimage.io.imsave(\"F:\\\\rootine_data\\\\rootine_transfer_their_seg\\\\compare_out\\\\unet_clean.tif\", unet_binary_pot, check_contrast=False)\n",
    "del pot_mask_erosion\n",
    "del pot_mask\n",
    "del unet_binary\n",
    "gc.collect()"
   ]
  },
  {
   "cell_type": "code",
   "execution_count": 9,
   "id": "00c33677",
   "metadata": {},
   "outputs": [],
   "source": [
    "# root_VOL = Volume(unet_binary_pot, spacing=((1),(1),(1)))\n",
    "# root_ISO = root_VOL.isosurface(1)\n",
    "# root_ISO.write(\"F:\\\\rootine_data\\\\rootine_transfer_their_seg\\\\compare_out\\\\3D_UNET.stl\")"
   ]
  },
  {
   "cell_type": "code",
   "execution_count": 10,
   "id": "818b0c7d",
   "metadata": {},
   "outputs": [],
   "source": [
    "# root_VOL = Volume(rootine, spacing=((1),(1),(1)))\n",
    "# root_ISO = root_VOL.isosurface(1)\n",
    "# root_ISO.write(\"F:\\\\rootine_data\\\\rootine_transfer_their_seg\\\\compare_out\\\\rootine.stl\")"
   ]
  },
  {
   "cell_type": "code",
   "execution_count": 11,
   "id": "3c3ff8be",
   "metadata": {},
   "outputs": [],
   "source": [
    "#skeltonize rootine\n",
    "rootine_skeleton = skeletonize(rootine)\n",
    "data_rootine_skeleton = np.array(rootine_skeleton)\n",
    "data_rootine_skeleton=data_rootine_skeleton.flatten()\n",
    "data_rootine_skeleton=data_rootine_skeleton[data_rootine_skeleton != 0]"
   ]
  },
  {
   "cell_type": "code",
   "execution_count": 12,
   "id": "439651bc",
   "metadata": {},
   "outputs": [],
   "source": [
    "#skeltonize unet\n",
    "unet_binary_pot_skeleton = skeletonize(unet_binary_pot)\n",
    "data_unet = np.array(unet_binary_pot_skeleton)\n",
    "data_unet=data_unet.flatten()\n",
    "data_unet=data_unet[data_unet != 0]"
   ]
  },
  {
   "cell_type": "code",
   "execution_count": 13,
   "id": "e44d44fa",
   "metadata": {},
   "outputs": [
    {
     "name": "stdout",
     "output_type": "stream",
     "text": [
      "results from rootine v2 paper = 186607.196\n",
      "python results from rootine v2 mask= 187613\n",
      "python results from 3Dunet= 174874\n",
      "the 3D unet is -0.06790041201835693% off\n"
     ]
    },
    {
     "data": {
      "text/plain": [
       "0"
      ]
     },
     "execution_count": 13,
     "metadata": {},
     "output_type": "execute_result"
    }
   ],
   "source": [
    "print (\"results from rootine v2 paper = 186607.196\")\n",
    "print (\"python results from rootine v2 mask= \"+ str(int(len(data_rootine_skeleton))))\n",
    "print (\"python results from 3Dunet= \"+ str(int(len(data_unet))))\n",
    "print (\"the 3D unet is \"+ str((int(len(data_unet)) - int(len(data_rootine_skeleton)))/int(len(data_rootine_skeleton)))+ \"% off\")\n",
    "del rootine_skeleton\n",
    "del unet_binary_pot_skeleton\n",
    "gc.collect()"
   ]
  },
  {
   "cell_type": "code",
   "execution_count": 14,
   "id": "5cac8207",
   "metadata": {},
   "outputs": [],
   "source": [
    "#memory crashes so just testing F1 on sub volume\n",
    "unet_binary_pot=unet_binary_pot[300:800]\n",
    "rootine=rootine[300:800]\n",
    "flat_predictions = unet_binary_pot.flatten()\n",
    "flat_ground_truths = rootine.flatten()\n",
    "f1 = f1_score(flat_ground_truths, flat_predictions, average='binary')\n",
    "\n",
    "precision = precision_score(flat_ground_truths, flat_predictions, average='binary')  # or 'micro', 'weighted', etc.\n",
    "recall = recall_score(flat_ground_truths, flat_predictions, average='binary') \n",
    "\n",
    "qc_metrics = {'QC_test': ['precision', 'recall', 'f1'],\n",
    "        'QC_result': [precision, recall, f1]}\n",
    "qc_metrics = pd.DataFrame(qc_metrics)\n",
    "qc_metrics.to_csv(\"F:\\\\rootine_data\\\\rootine_transfer_their_seg\\\\compare_out\\\\qc_metrics.csv\") "
   ]
  },
  {
   "cell_type": "code",
   "execution_count": 15,
   "id": "9416fc44",
   "metadata": {},
   "outputs": [
    {
     "data": {
      "text/plain": [
       "0.7616213312279158"
      ]
     },
     "execution_count": 15,
     "metadata": {},
     "output_type": "execute_result"
    }
   ],
   "source": [
    "f1"
   ]
  },
  {
   "cell_type": "code",
   "execution_count": null,
   "id": "a7ad432a",
   "metadata": {},
   "outputs": [],
   "source": []
  }
 ],
 "metadata": {
  "kernelspec": {
   "display_name": "Python 3 (ipykernel)",
   "language": "python",
   "name": "python3"
  },
  "language_info": {
   "codemirror_mode": {
    "name": "ipython",
    "version": 3
   },
   "file_extension": ".py",
   "mimetype": "text/x-python",
   "name": "python",
   "nbconvert_exporter": "python",
   "pygments_lexer": "ipython3",
   "version": "3.9.18"
  }
 },
 "nbformat": 4,
 "nbformat_minor": 5
}
